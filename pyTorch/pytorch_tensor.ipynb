{
 "cells": [
  {
   "cell_type": "code",
   "execution_count": 4,
   "metadata": {},
   "outputs": [
    {
     "data": {
      "text/plain": [
       "<torch._C.Generator at 0x10fc78510>"
      ]
     },
     "execution_count": 4,
     "metadata": {},
     "output_type": "execute_result"
    }
   ],
   "source": [
    "import torch as t\n",
    "import torch.autograd as autograd\n",
    "import torch.nn as nn\n",
    "import torch.nn.functional as F\n",
    "import torch.optim as optim\n",
    "torch.manual_seed(1)"
   ]
  },
  {
   "cell_type": "code",
   "execution_count": 11,
   "metadata": {},
   "outputs": [],
   "source": [
    "# creating tensors\n",
    "V_data = [1.,2.,3.]\n",
    "V = torch.tensor(V_data)\n",
    "\n",
    "# create a matrix\n",
    "M = torch.tensor([[1.,2.,3.],[4.,5.,6.]])\n",
    "\n",
    "# create a 3D tensor of size 2 x 2 x 2\n",
    "T_data = [[[1., 2.], [3., 4.]],\n",
    "          [[5., 6.], [7., 8.]]]\n",
    "T = torch.tensor(T_data)"
   ]
  },
  {
   "cell_type": "code",
   "execution_count": 14,
   "metadata": {},
   "outputs": [],
   "source": [
    "# tensor addition\n",
    "A = torch.tensor([1,2,3])\n",
    "B = torch.tensor([4,5,6])\n",
    "\n",
    "C = A+B"
   ]
  },
  {
   "cell_type": "code",
   "execution_count": 27,
   "metadata": {},
   "outputs": [
    {
     "name": "stdout",
     "output_type": "stream",
     "text": [
      "tensor([[-0.3749,  1.8673,  0.9042,  0.1181,  1.8941],\n",
      "        [-0.4229,  0.7431,  0.0756,  1.1366, -1.9280],\n",
      "        [-0.5565, -0.1434,  2.6780,  0.6735,  0.4161],\n",
      "        [-1.0110,  0.5515,  0.9910, -1.0281, -0.9821],\n",
      "        [-1.8680,  0.5865, -0.4641, -0.9715, -1.0603]])\n"
     ]
    }
   ],
   "source": [
    "# randn\n",
    "x_1 = torch.randn(2,5)\n",
    "y_1 = torch.randn(3,5)\n",
    "z_1 = torch.cat([x_1, y_1], 0)\n",
    "print(z_1)"
   ]
  },
  {
   "cell_type": "code",
   "execution_count": 28,
   "metadata": {},
   "outputs": [
    {
     "name": "stdout",
     "output_type": "stream",
     "text": [
      "tensor([[ 0.7090, -0.0895, -0.8338,  0.8562, -1.0990,  0.2927,  0.8433,\n",
      "          0.0486],\n",
      "        [ 0.4515, -0.9094,  0.0729,  1.2114, -1.4602,  1.7995,  0.5176,\n",
      "         -1.1685]])\n"
     ]
    }
   ],
   "source": [
    "# concatenate coumns:\n",
    "x_2 = torch.randn(2, 3)\n",
    "y_2 = torch.randn(2, 5)\n",
    "\n",
    "# second arg specifies which axis to concat, 1 means concat columns\n",
    "z_2 = torch.cat([x_2, y_2], 1)\n",
    "print(z_2)"
   ]
  },
  {
   "cell_type": "code",
   "execution_count": 39,
   "metadata": {},
   "outputs": [
    {
     "name": "stdout",
     "output_type": "stream",
     "text": [
      "tensor([[[-1.1414, -1.9074, -1.1947, -0.0979],\n",
      "         [ 0.6432,  0.8004,  0.4092,  0.3018],\n",
      "         [-1.1615,  2.7769,  0.4533,  1.0132]],\n",
      "\n",
      "        [[ 2.8881,  1.5409, -0.4591, -0.5763],\n",
      "         [ 0.3502,  0.9340,  0.0843,  0.2034],\n",
      "         [-0.3605, -1.1880, -1.3643,  0.5805]]])\n",
      "tensor([[-1.1414, -1.9074, -1.1947, -0.0979,  0.6432,  0.8004,  0.4092,\n",
      "          0.3018, -1.1615,  2.7769,  0.4533,  1.0132],\n",
      "        [ 2.8881,  1.5409, -0.4591, -0.5763,  0.3502,  0.9340,  0.0843,\n",
      "          0.2034, -0.3605, -1.1880, -1.3643,  0.5805]])\n",
      "tensor([-1.1414, -1.9074, -1.1947, -0.0979,  0.6432,  0.8004,  0.4092,\n",
      "         0.3018, -1.1615,  2.7769,  0.4533,  1.0132,  2.8881,  1.5409,\n",
      "        -0.4591, -0.5763,  0.3502,  0.9340,  0.0843,  0.2034, -0.3605,\n",
      "        -1.1880, -1.3643,  0.5805])\n"
     ]
    }
   ],
   "source": [
    "# reshape\n",
    "x = torch.randn(2, 3, 4)\n",
    "print(x)\n",
    "print(x.view(2,12)) # Reshape to 2 rows, 12 columns\n",
    "print(x.view(-1)) # flat"
   ]
  },
  {
   "cell_type": "code",
   "execution_count": 44,
   "metadata": {},
   "outputs": [
    {
     "name": "stdout",
     "output_type": "stream",
     "text": [
      "tensor([ 4,  6])\n",
      "<AddBackward1 object at 0x115b86e80>\n"
     ]
    }
   ],
   "source": [
    "# knows its creation\n",
    "x = torch.tensor([1,2], requires_grad = True)\n",
    "y = torch.tensor([3,4], requires_grad = True)\n",
    "\n",
    "z = x + y\n",
    "print(z)\n",
    "print(z.grad_fn)"
   ]
  },
  {
   "cell_type": "code",
   "execution_count": 47,
   "metadata": {},
   "outputs": [
    {
     "name": "stdout",
     "output_type": "stream",
     "text": [
      "tensor(10)\n",
      "<SumBackward0 object at 0x115b86748>\n"
     ]
    }
   ],
   "source": [
    "# compute gradient\n",
    "s = z.sum()\n",
    "print(s)\n",
    "print(s.grad_fn)"
   ]
  },
  {
   "cell_type": "code",
   "execution_count": 50,
   "metadata": {},
   "outputs": [
    {
     "name": "stdout",
     "output_type": "stream",
     "text": [
      "tensor([ 3,  3])\n"
     ]
    }
   ],
   "source": [
    "# run backprop\n",
    "s.backward()\n",
    "print(x.grad)"
   ]
  },
  {
   "cell_type": "code",
   "execution_count": null,
   "metadata": {},
   "outputs": [],
   "source": []
  }
 ],
 "metadata": {
  "kernelspec": {
   "display_name": "Python 3",
   "language": "python",
   "name": "python3"
  },
  "language_info": {
   "codemirror_mode": {
    "name": "ipython",
    "version": 3
   },
   "file_extension": ".py",
   "mimetype": "text/x-python",
   "name": "python",
   "nbconvert_exporter": "python",
   "pygments_lexer": "ipython3",
   "version": "3.6.4"
  }
 },
 "nbformat": 4,
 "nbformat_minor": 2
}
