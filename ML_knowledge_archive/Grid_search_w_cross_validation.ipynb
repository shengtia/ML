{
 "cells": [
  {
   "cell_type": "markdown",
   "metadata": {},
   "source": [
    "# Why is grid search important? and what is it?\n",
    "1. The goal of grid search is to locate the best hyper-parameters for a learning-algorithm. As usual the goal is to optimize some well-defined evaluation metrics.\n",
    "\n",
    "2. Grid-search is an exhaustive search procedure that explores a space of manually defined hyper-parameters by testing all possible configurations and by selecting the most effective one."
   ]
  },
  {
   "cell_type": "markdown",
   "metadata": {},
   "source": [
    "# How does grid search work?\n",
    "## Example : Parameter estimation using grid search with cross-validation\n",
    "Find the best parameter for a SVM"
   ]
  },
  {
   "cell_type": "code",
   "execution_count": 46,
   "metadata": {
    "scrolled": true
   },
   "outputs": [
    {
     "name": "stdout",
     "output_type": "stream",
     "text": [
      "# Tuning hyper-parameters for accuracy\n",
      "\n",
      "Best parameters set found on development set:\n",
      "\n",
      "{'C': 10, 'gamma': 0.001, 'kernel': 'rbf'}\n",
      "\n",
      "Grid scores on development set:\n",
      "\n",
      "0.987 (+/-0.007) for {'C': 1, 'gamma': 0.001, 'kernel': 'rbf'}\n",
      "0.971 (+/-0.016) for {'C': 1, 'gamma': 0.0001, 'kernel': 'rbf'}\n",
      "0.991 (+/-0.007) for {'C': 10, 'gamma': 0.001, 'kernel': 'rbf'}\n",
      "0.981 (+/-0.014) for {'C': 10, 'gamma': 0.0001, 'kernel': 'rbf'}\n",
      "0.991 (+/-0.007) for {'C': 100, 'gamma': 0.001, 'kernel': 'rbf'}\n",
      "0.986 (+/-0.014) for {'C': 100, 'gamma': 0.0001, 'kernel': 'rbf'}\n",
      "0.991 (+/-0.007) for {'C': 1000, 'gamma': 0.001, 'kernel': 'rbf'}\n",
      "0.986 (+/-0.014) for {'C': 1000, 'gamma': 0.0001, 'kernel': 'rbf'}\n",
      "0.978 (+/-0.021) for {'C': 1, 'kernel': 'linear'}\n",
      "0.978 (+/-0.021) for {'C': 10, 'kernel': 'linear'}\n",
      "0.978 (+/-0.021) for {'C': 100, 'kernel': 'linear'}\n",
      "0.978 (+/-0.021) for {'C': 1000, 'kernel': 'linear'}\n",
      "\n",
      "Detailed classification report:\n",
      "\n",
      "The model is trained on the full development set.\n",
      "The scores are computed on the full evaluation set.\n",
      "\n",
      "             precision    recall  f1-score   support\n",
      "\n",
      "          0       1.00      1.00      1.00        43\n",
      "          1       1.00      1.00      1.00        35\n",
      "          2       1.00      1.00      1.00        36\n",
      "          3       1.00      1.00      1.00        41\n",
      "          4       1.00      1.00      1.00        38\n",
      "          5       0.97      0.97      0.97        30\n",
      "          6       1.00      1.00      1.00        37\n",
      "          7       1.00      0.97      0.99        37\n",
      "          8       1.00      1.00      1.00        29\n",
      "          9       0.94      0.97      0.96        34\n",
      "\n",
      "avg / total       0.99      0.99      0.99       360\n",
      "\n",
      "\n"
     ]
    }
   ],
   "source": [
    "from __future__ import print_function\n",
    "from sklearn import datasets\n",
    "from sklearn.model_selection import train_test_split\n",
    "from sklearn.model_selection import GridSearchCV\n",
    "from sklearn.metrics import classification_report\n",
    "from sklearn.svm import SVC\n",
    "\n",
    "# loading the digits dataset, image dataset\n",
    "data = datasets.load_digits()\n",
    "\n",
    "# flatten the image, turn them to a (sample, feature) matrix\n",
    "n_samples = len(data.images)\n",
    "\n",
    "# turn each image pixel into a 1-D array\n",
    "X = data.images.reshape((n_samples, -1))\n",
    "\n",
    "# assign targets\n",
    "y = data.target\n",
    "\n",
    "# split the dataset to two equal parts\n",
    "X_train, X_test, y_train, y_test = train_test_split(X,y,test_size=0.2,random_state = 1)\n",
    "\n",
    "# set the parameters by cross_validation\n",
    "params = [{'kernel':['rbf'], 'gamma':[1e-3,1e-4], 'C' : [1, 10, 100, 1000]},{'kernel' : ['linear'], 'C' : [1, 10, 100, 1000]}]\n",
    "\n",
    "# the scores we want to know from cross validation with all the combinations\n",
    "scores = ['accuracy']\n",
    "\n",
    "# doing the work, finding the best accuracy\n",
    "for score in scores:\n",
    "    # title\n",
    "    print(\"# Tuning hyper-parameters for %s\" % score)\n",
    "    \n",
    "    # newline\n",
    "    print()\n",
    "    \n",
    "    # gridsearch, specify the model, parameters, cv folds, and data\n",
    "    clf = GridSearchCV(SVC(), params, cv = 5, scoring = '%s' % score)\n",
    "    clf.fit(X_train, y_train)\n",
    "    print(\"Best parameters set found on development set:\")\n",
    "    print()\n",
    "    print(clf.best_params_)\n",
    "    print()\n",
    "    print(\"Grid scores on development set:\")\n",
    "    print()\n",
    "    means = clf.cv_results_['mean_test_score']\n",
    "    stds = clf.cv_results_['std_test_score']\n",
    "    for mean, std, params in zip(means, stds, clf.cv_results_['params']):\n",
    "        print(\"%0.3f (+/-%0.03f) for %r\"\n",
    "              % (mean, std * 2, params))\n",
    "    print()\n",
    "\n",
    "    print(\"Detailed classification report:\")\n",
    "    print()\n",
    "    print(\"The model is trained on the full development set.\")\n",
    "    print(\"The scores are computed on the full evaluation set.\")\n",
    "    print()\n",
    "    y_true, y_pred = y_test, clf.predict(X_test)\n",
    "    print(classification_report(y_true, y_pred))\n",
    "    print()"
   ]
  },
  {
   "cell_type": "code",
   "execution_count": null,
   "metadata": {},
   "outputs": [],
   "source": []
  }
 ],
 "metadata": {
  "kernelspec": {
   "display_name": "Python 3",
   "language": "python",
   "name": "python3"
  },
  "language_info": {
   "codemirror_mode": {
    "name": "ipython",
    "version": 3
   },
   "file_extension": ".py",
   "mimetype": "text/x-python",
   "name": "python",
   "nbconvert_exporter": "python",
   "pygments_lexer": "ipython3",
   "version": "3.6.4"
  }
 },
 "nbformat": 4,
 "nbformat_minor": 2
}
