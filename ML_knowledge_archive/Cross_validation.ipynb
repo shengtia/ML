{
 "cells": [
  {
   "cell_type": "code",
   "execution_count": 1,
   "metadata": {},
   "outputs": [],
   "source": [
    "import numpy as np\n",
    "from sklearn.model_selection import train_test_split\n",
    "from sklearn import datasets\n",
    "from sklearn import svm"
   ]
  },
  {
   "cell_type": "code",
   "execution_count": 10,
   "metadata": {},
   "outputs": [
    {
     "data": {
      "text/plain": [
       "0.9833333333333333"
      ]
     },
     "execution_count": 10,
     "metadata": {},
     "output_type": "execute_result"
    }
   ],
   "source": [
    "'''direct testing, no cross validation yet'''\n",
    "#load the dataset, data + label\n",
    "iris = datasets.load_iris()\n",
    "\n",
    "#splitting the data\n",
    "X_train,X_test,y_train,y_test = train_test_split(iris.data,iris.target,test_size = 0.4, random_state = 1);\n",
    "\n",
    "#train a linear svm model\n",
    "clf = svm.SVC(kernel='linear').fit(X_train,y_train)\n",
    "\n",
    "#see the score of the model\n",
    "clf.score(X_test,y_test)\n"
   ]
  },
  {
   "cell_type": "code",
   "execution_count": 11,
   "metadata": {},
   "outputs": [],
   "source": [
    "from sklearn.model_selection import cross_val_score"
   ]
  },
  {
   "cell_type": "code",
   "execution_count": 19,
   "metadata": {},
   "outputs": [
    {
     "name": "stdout",
     "output_type": "stream",
     "text": [
      "Accuracy: 0.98(+/- 0.03)\n"
     ]
    }
   ],
   "source": [
    "'''k-fold cross validation'''\n",
    "\n",
    "#instead of training a model, we define a model\n",
    "clf = svm.SVC(kernel='linear', C=1.0)\n",
    "\n",
    "#now, we can do k-fold cross validation\n",
    "scores = cross_val_score(clf, iris.data, iris.target, cv = 5)\n",
    "\n",
    "#print the mean score and the 95% confidence interval of the score\n",
    "print(\"Accuracy: %0.2f(+/- %0.2f)\" % (scores.mean(),scores.std()*2))"
   ]
  },
  {
   "cell_type": "code",
   "execution_count": null,
   "metadata": {},
   "outputs": [],
   "source": []
  }
 ],
 "metadata": {
  "kernelspec": {
   "display_name": "Python 3",
   "language": "python",
   "name": "python3"
  },
  "language_info": {
   "codemirror_mode": {
    "name": "ipython",
    "version": 3
   },
   "file_extension": ".py",
   "mimetype": "text/x-python",
   "name": "python",
   "nbconvert_exporter": "python",
   "pygments_lexer": "ipython3",
   "version": "3.6.4"
  }
 },
 "nbformat": 4,
 "nbformat_minor": 2
}
