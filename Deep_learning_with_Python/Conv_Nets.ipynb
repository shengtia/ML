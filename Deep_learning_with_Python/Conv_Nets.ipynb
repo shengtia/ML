{
 "cells": [
  {
   "cell_type": "markdown",
   "metadata": {},
   "source": [
    "## Crash Course In Convolutional Neural Networks\n",
    "1. The building blocks used in CNNs such as convolutional layers and pool layers.\n",
    "2. How the building blocks fit together with a short worked example.\n",
    "3. Best practices for configuring CNNs on your own object recognition tasks.\n",
    "\n",
    "When the input gets a lot larger like a 1920 x 1080 image, traditional networks wont work\n",
    "Advantages using CNN\n",
    "1. They use fewer parameters (weights) to learn than a fully connected network.\n",
    "2. They are designed to be invariant to object position and distortion in the scene.\n",
    "3. They automatically learn and generalize features from the input domain.\n",
    "\n",
    "### Building Blocks\n",
    "#### Filters\n",
    "The filters are essentially the neurons of the layer. They have both weighted inputs and generate an output value like a neuron. The input size is a fixed square called a patch or a receptive field. If the convolutional layer is an input layer, then the input patch will be pixel values. If they deeper in the network architecture, then the convolutional layer will take input from a feature map from the previous layer.\n",
    "\n",
    "#### Feature Maps\n",
    "The feature map is the output of one filter applied to the previous layer. A given filter is drawn across the entire previous layer and moved one pixel at a time. Each position results in an activation of the neuron and the output is collected in the feature map. You can see that if the receptive field is moved one pixel from activation to activation, then the field will overlap with the previous activation by (field width - 1) input values.\n",
    "The distance that filter is moved across the input from the previous layer each activation is referred to as the stride. If the size of the previous layer is not cleanly divisible by the size of the filter’s receptive field and the size of the stride then it is possible for the receptive field to attempt to read off the edge of the input feature map. In this case, techniques like zero padding can be used to invent mock inputs with zero values for the receptive field to read.\n",
    "\n",
    "#### Pooling Layers\n",
    "The pooling layers down-sample the previous layers feature map. Pooling layers follow a sequence of one or more convolutional layers and are intended to consolidate the features learned and expressed in the previous layer’s feature map. As such, pooling may be considered a technique to compress or generalize feature representations and generally reduce the overfitting of the training data by the model.\n",
    "They too have a receptive field, often much smaller than the convolutional layer. Also, the stride or number of inputs that the receptive field is moved for each activation is often equal to the size of the receptive field to avoid any overlap. Pooling layers are often very simple, taking the average or the maximum of the input value in order to create its own feature map.\n",
    "\n",
    "#### Fully Connected Layers\n",
    "Fully connected layers are the normal flat feedforward neural network layer. These layers may have a nonlinear activation function or a softmax activation in order to output probabilities of class predictions. Fully connected layers are used at the end of the network after feature extraction and consolidation has been performed by the convolutional and pooling layers. They are used to create final nonlinear combinations of features and for making predictions by the network.\n",
    "\n",
    "### Best Practices\n",
    "Now that we know about the building blocks for a convolutional neural network and how the layers hang together, we can review some best practices to consider when applying them.\n",
    "#### Input Receptive Field Dimensions: \n",
    "The default is 2D for images, but could be 1D such as for words in a sentence or 3D for video that adds a time dimension.\n",
    "#### Receptive Field Size:\n",
    "􏰀  The patch should be as small as possible, but large enough to see features in the input data. It is common to use 3 × 3 on small images and 5 × 5 or 7 × 7 and more on larger image sizes.\n",
    "#### Stride Width:\n",
    "􏰀 \n",
    "Use the default stride of 1. It is easy to understand and you don’t need padding to handle the receptive field falling off the edge of your images. This could be increased to 2 or larger for larger images.\n",
    "#### Number of Filters:\n",
    "􏰀  Filters are the feature detectors. Generally fewer filters are used at the input layer and increasingly more filters used at deeper layers.\n",
    "#### Padding:\n",
    "􏰀  Set to zero and called zero padding when reading non-input data. This is useful when you cannot or do not want to standardize input image sizes or when you want to use receptive field and stride sizes that do not neatly divide up the input image size.\n",
    "#### Pooling:\n",
    "􏰀  Pooling is a destructive or generalization process to reduce overfitting. Receptive field size is almost always set to 2 × 2 with a stride of 2 to discard 75% of the activations from the output of the previous layer.\n",
    "#### Data Preparation:\n",
    "􏰀  Consider standardizing input data, both the dimensions of the images and pixel values.\n",
    "􏰀 Pattern Architecture: It is common to pattern the layers in your network architecture. This might be one, two or some number of convolutional layers followed by a pooling layer. This structure can then be repeated one or more times. Finally, fully connected layers are often only used at the output end and may be stacked one, two or more deep.\n",
    "#### Dropout:\n",
    "􏰀  CNNs have a habit of overfitting, even with pooling layers. Dropout should be used such as between fully connected layers and perhaps after pooling layers."
   ]
  },
  {
   "cell_type": "code",
   "execution_count": null,
   "metadata": {},
   "outputs": [],
   "source": []
  }
 ],
 "metadata": {
  "kernelspec": {
   "display_name": "Python 3",
   "language": "python",
   "name": "python3"
  },
  "language_info": {
   "codemirror_mode": {
    "name": "ipython",
    "version": 3
   },
   "file_extension": ".py",
   "mimetype": "text/x-python",
   "name": "python",
   "nbconvert_exporter": "python",
   "pygments_lexer": "ipython3",
   "version": "3.6.4"
  }
 },
 "nbformat": 4,
 "nbformat_minor": 2
}
