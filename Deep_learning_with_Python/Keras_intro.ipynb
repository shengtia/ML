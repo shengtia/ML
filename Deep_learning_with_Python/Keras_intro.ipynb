{
 "cells": [
  {
   "cell_type": "markdown",
   "metadata": {},
   "source": [
    "## What is Keras ?\n",
    "A minimalist Python library for deep learning that can run on top of Theano or TensorFlow. \n",
    "It was developed to make developing deep learning models as fast and easy as possible for research and development.\n",
    "\n",
    "### Guiding Principles\n",
    "1. Modularity: A model can be understood as a sequence or a graph alone. All the concerns of a deep learning model are discrete components that can be combined in arbitrary ways.\n",
    "\n",
    "2. Minimalism: The library provides just enough to achieve an outcome, no frills and maximizing readability.\n",
    "\n",
    "3. Extensibility: New components are intentionally easy to add and use within the framework, intended for developers to trial and explore new ideas.\n",
    "\n",
    "4. Python: No separate model files with custom file formats. Everything is native Python.\n",
    "\n",
    "### Theano and Tensorflow backends for keras\n",
    "1. Keras is just an API, meaning it does not implement the mathmatical operations that tensorflow or theano did\n",
    "2. We can configure the backends if we have both backends installed\n",
    "\n",
    "### Building Deep learning models with keras\n",
    "Keras ==> Model\n",
    "Main type of model is a sequence of layers called a Sequential which is called a linear stack of layers... OKAY, its called a Sequential lol, got it\n",
    "\n",
    "### Deep learning model construction process\n",
    "1. Define the model: Create a Sequential model and add configured layers\n",
    "2. Compile the model: Specify loss function and optimizers and call the compile() function on the model\n",
    "3. Fit the model: Train the model on the input by calling the fit() function\n",
    "4. Make predictions: call evaluate() or predict() on the model\n",
    "\n",
    "Basically, you use keras with only the consideration of choosing either tensorflow or keras as the backend."
   ]
  },
  {
   "cell_type": "code",
   "execution_count": null,
   "metadata": {},
   "outputs": [],
   "source": []
  }
 ],
 "metadata": {
  "kernelspec": {
   "display_name": "Python 3",
   "language": "python",
   "name": "python3"
  },
  "language_info": {
   "codemirror_mode": {
    "name": "ipython",
    "version": 3
   },
   "file_extension": ".py",
   "mimetype": "text/x-python",
   "name": "python",
   "nbconvert_exporter": "python",
   "pygments_lexer": "ipython3",
   "version": "3.6.4"
  }
 },
 "nbformat": 4,
 "nbformat_minor": 2
}
