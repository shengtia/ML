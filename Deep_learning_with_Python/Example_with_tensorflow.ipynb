{
 "cells": [
  {
   "cell_type": "markdown",
   "metadata": {},
   "source": [
    "## Tensorflow introduction\n",
    "TensorFlow is an open source library for fast numerical computing. It was created and is maintained by Google and released under the Apache 2.0 open source license. The API is nominally for the Python programming language, although there is access to the underlying C++ API. Unlike other numerical libraries intended for use in Deep Learning like Theano, TensorFlow was designed for use both in research and development and in production systems, not least RankBrain in Google search1 and the fun DeepDream project2. It can run on single CPU systems, GPUs as well as mobile devices and large scale distributed systems of hundreds of machines."
   ]
  },
  {
   "cell_type": "code",
   "execution_count": 3,
   "metadata": {},
   "outputs": [
    {
     "data": {
      "text/plain": [
       "26.0"
      ]
     },
     "execution_count": 3,
     "metadata": {},
     "output_type": "execute_result"
    }
   ],
   "source": [
    "import tensorflow as tf\n",
    "\n",
    "#declare variables as placeholders, tf.placeholder(datatype)\n",
    "a = tf.placeholder(tf.float32)\n",
    "\n",
    "b = tf.placeholder(tf.float32)\n",
    "\n",
    "#define the function using tf.operator, eg tf.add\n",
    "add = tf.add(a,b)\n",
    "\n",
    "#tensorflow runs in a session\n",
    "sess = tf.Session();\n",
    "\n",
    "#declare the input data as a dictionary\n",
    "binding = {a : 12, b : 14}\n",
    "\n",
    "#now we can run the session, run(the function, and input)\n",
    "c = sess.run(add, feed_dict=binding)\n",
    "\n",
    "c"
   ]
  },
  {
   "cell_type": "code",
   "execution_count": null,
   "metadata": {},
   "outputs": [],
   "source": []
  }
 ],
 "metadata": {
  "kernelspec": {
   "display_name": "Python 3",
   "language": "python",
   "name": "python3"
  },
  "language_info": {
   "codemirror_mode": {
    "name": "ipython",
    "version": 3
   },
   "file_extension": ".py",
   "mimetype": "text/x-python",
   "name": "python",
   "nbconvert_exporter": "python",
   "pygments_lexer": "ipython3",
   "version": "3.6.4"
  }
 },
 "nbformat": 4,
 "nbformat_minor": 2
}
